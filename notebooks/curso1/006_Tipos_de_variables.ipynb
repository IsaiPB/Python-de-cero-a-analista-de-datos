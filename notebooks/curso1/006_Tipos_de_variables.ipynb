{
  "nbformat": 4,
  "nbformat_minor": 0,
  "metadata": {
    "colab": {
      "provenance": [],
      "include_colab_link": true
    },
    "kernelspec": {
      "name": "python3",
      "display_name": "Python 3"
    },
    "language_info": {
      "name": "python"
    }
  },
  "cells": [
    {
      "cell_type": "markdown",
      "metadata": {
        "id": "view-in-github",
        "colab_type": "text"
      },
      "source": [
        "<a href=\"https://colab.research.google.com/github/IsaiPB/Python-de-cero-a-analista-de-datos/blob/main/006_Tipos_de_variables.ipynb\" target=\"_parent\"><img src=\"https://colab.research.google.com/assets/colab-badge.svg\" alt=\"Open In Colab\"/></a>"
      ]
    },
    {
      "cell_type": "markdown",
      "source": [
        "# 1. Introdicción de tipos de variables"
      ],
      "metadata": {
        "id": "RD5nnwBJGant"
      }
    },
    {
      "cell_type": "code",
      "execution_count": null,
      "metadata": {
        "id": "2mQIJ4nT91Mv"
      },
      "outputs": [],
      "source": [
        "a = 1\n",
        "decimal = 0.1\n",
        "complejo = 1 + 3j\n",
        "verdadero = True\n",
        "falso = False\n",
        "cadena = 'Esta es una cadena'\n",
        "cadena2 = \"Esta es otra cadena\"\n",
        "lista = [1, 2, 3, 4, 5, a,\"cadena\", decimal, complejo, verdadero, falso, cadena,\n",
        "         cadena2] #Se modifica\n",
        "tupla = (1, 2, 3, 4, 5, a,\"cadena\", decimal, complejo, verdadero, falso,\n",
        "         cadena, cadena2) #No se modifica\n",
        "diccionario = {\"llave\":12,'a': 1, 'b': 2, 'c': 3}\n",
        "conjunto = {1, 2, 3, 4, 5}"
      ]
    },
    {
      "cell_type": "code",
      "source": [
        "tipo_a = type(a)\n",
        "tipo_decimal =type(decimal)\n",
        "tipo_complejo = type(complejo)\n",
        "tipo_verdadero = type(verdadero)\n",
        "tipo_falso = type(falso)\n",
        "tipo_cadena = type(cadena)\n",
        "tipo_cadena2 = type(cadena2)\n",
        "tipo_lista = type(lista)\n",
        "tipo_decimal = type(decimal)\n",
        "tipo_tupla = type(tupla)\n",
        "tipo_diccionario = type(diccionario)\n",
        "tipo_conjunto = type(conjunto)\n",
        "print(tipo_a, tipo_decimal, tipo_complejo, tipo_verdadero, tipo_falso,\n",
        "      tipo_cadena, tipo_cadena2, tipo_lista, tipo_decimal, tipo_tupla,\n",
        "      tipo_diccionario, tipo_conjunto)"
      ],
      "metadata": {
        "colab": {
          "base_uri": "https://localhost:8080/"
        },
        "id": "uM6sHPvi-HdR",
        "outputId": "cee89459-3fee-41c8-9085-5c0599092f5b"
      },
      "execution_count": null,
      "outputs": [
        {
          "output_type": "stream",
          "name": "stdout",
          "text": [
            "<class 'int'> <class 'float'> <class 'complex'> <class 'bool'> <class 'bool'> <class 'str'> <class 'str'> <class 'list'> <class 'float'> <class 'tuple'> <class 'dict'> <class 'set'>\n"
          ]
        }
      ]
    },
    {
      "cell_type": "markdown",
      "source": [
        "# 2. Tipos Numéricos Dinámicos en Python: Enteros, Dobles y Complejos"
      ],
      "metadata": {
        "id": "KpZViXr8UMXa"
      }
    },
    {
      "cell_type": "code",
      "source": [
        "a = 1 + 2"
      ],
      "metadata": {
        "id": "s6FVwe8wUbeM"
      },
      "execution_count": null,
      "outputs": []
    },
    {
      "cell_type": "code",
      "source": [
        "type(a)"
      ],
      "metadata": {
        "colab": {
          "base_uri": "https://localhost:8080/"
        },
        "id": "g30NI59vUszU",
        "outputId": "1a7fe1ad-c683-4283-84dd-38d95d8396a6"
      },
      "execution_count": null,
      "outputs": [
        {
          "output_type": "execute_result",
          "data": {
            "text/plain": [
              "int"
            ]
          },
          "metadata": {},
          "execution_count": 3
        }
      ]
    },
    {
      "cell_type": "code",
      "source": [
        "b = 2"
      ],
      "metadata": {
        "id": "v7DLl7loU9VV"
      },
      "execution_count": null,
      "outputs": []
    },
    {
      "cell_type": "code",
      "source": [
        "c = a + b"
      ],
      "metadata": {
        "id": "XeJV2IKKU-xL"
      },
      "execution_count": null,
      "outputs": []
    },
    {
      "cell_type": "code",
      "source": [
        "type(c)"
      ],
      "metadata": {
        "colab": {
          "base_uri": "https://localhost:8080/"
        },
        "id": "S8STiLDNVp08",
        "outputId": "ada7f6ca-e43a-4107-8bf3-dccc7f8a3fe3"
      },
      "execution_count": null,
      "outputs": [
        {
          "output_type": "execute_result",
          "data": {
            "text/plain": [
              "int"
            ]
          },
          "metadata": {},
          "execution_count": 12
        }
      ]
    },
    {
      "cell_type": "code",
      "source": [
        "d = 6/2"
      ],
      "metadata": {
        "id": "4bZS_BRpWCVI"
      },
      "execution_count": null,
      "outputs": []
    },
    {
      "cell_type": "code",
      "source": [
        "type(d)"
      ],
      "metadata": {
        "colab": {
          "base_uri": "https://localhost:8080/"
        },
        "id": "0etOpS_JWGRW",
        "outputId": "17740358-e0bb-485d-fa15-2fe08eefb96b"
      },
      "execution_count": null,
      "outputs": [
        {
          "output_type": "execute_result",
          "data": {
            "text/plain": [
              "int"
            ]
          },
          "metadata": {},
          "execution_count": 27
        }
      ]
    },
    {
      "cell_type": "code",
      "source": [
        "f = 3*4"
      ],
      "metadata": {
        "id": "S5D2RQlPWRWm"
      },
      "execution_count": null,
      "outputs": []
    },
    {
      "cell_type": "code",
      "source": [
        "type(f)"
      ],
      "metadata": {
        "colab": {
          "base_uri": "https://localhost:8080/"
        },
        "id": "VfPqIyznWTEw",
        "outputId": "68b75b06-af62-47ad-c731-ababacd45366"
      },
      "execution_count": null,
      "outputs": [
        {
          "output_type": "execute_result",
          "data": {
            "text/plain": [
              "int"
            ]
          },
          "metadata": {},
          "execution_count": 21
        }
      ]
    },
    {
      "cell_type": "code",
      "source": [
        "#Variables complejas\n",
        "g = 1 +1j"
      ],
      "metadata": {
        "id": "4sC3JJf0W5TZ"
      },
      "execution_count": null,
      "outputs": []
    },
    {
      "cell_type": "code",
      "source": [
        "a + g"
      ],
      "metadata": {
        "colab": {
          "base_uri": "https://localhost:8080/"
        },
        "id": "SBBiQf-BXHNN",
        "outputId": "0e64a41a-b54e-483a-cbe4-a4a0ece1b708"
      },
      "execution_count": null,
      "outputs": [
        {
          "output_type": "execute_result",
          "data": {
            "text/plain": [
              "(3+1j)"
            ]
          },
          "metadata": {},
          "execution_count": 25
        }
      ]
    },
    {
      "cell_type": "markdown",
      "source": [
        "# 3. Las cadenas en Python: concatenación y métodos esenciales"
      ],
      "metadata": {
        "id": "rQ5bCWKqrfBW"
      }
    },
    {
      "cell_type": "code",
      "source": [
        "texto = \"Programando en python\""
      ],
      "metadata": {
        "id": "-D8kZ1jkrmPX"
      },
      "execution_count": null,
      "outputs": []
    },
    {
      "cell_type": "code",
      "source": [
        "type(texto)"
      ],
      "metadata": {
        "colab": {
          "base_uri": "https://localhost:8080/"
        },
        "id": "wPK-azKWr425",
        "outputId": "ff50f142-a9ba-4813-8a09-1eb38c892a5c"
      },
      "execution_count": null,
      "outputs": [
        {
          "output_type": "execute_result",
          "data": {
            "text/plain": [
              "str"
            ]
          },
          "metadata": {},
          "execution_count": 3
        }
      ]
    },
    {
      "cell_type": "code",
      "source": [
        "texto2 = 'Esta es una cadena también'"
      ],
      "metadata": {
        "id": "kchQeOGFr_Tp"
      },
      "execution_count": null,
      "outputs": []
    },
    {
      "cell_type": "code",
      "source": [
        "type(texto2)"
      ],
      "metadata": {
        "colab": {
          "base_uri": "https://localhost:8080/"
        },
        "id": "B9ekFBtAsFAY",
        "outputId": "8f6e620a-74c1-451d-acfc-f0cc0d7a1d42"
      },
      "execution_count": null,
      "outputs": [
        {
          "output_type": "execute_result",
          "data": {
            "text/plain": [
              "str"
            ]
          },
          "metadata": {},
          "execution_count": 6
        }
      ]
    },
    {
      "cell_type": "code",
      "source": [
        "texto_largo = '''Este es un texto\n",
        "largo,\n",
        "muy, muy largo'''"
      ],
      "metadata": {
        "id": "eEpDanqhsyX1"
      },
      "execution_count": null,
      "outputs": []
    },
    {
      "cell_type": "code",
      "source": [
        "type(texto_largo)"
      ],
      "metadata": {
        "colab": {
          "base_uri": "https://localhost:8080/"
        },
        "id": "io8xK-WqtAD3",
        "outputId": "06c3a67e-34e7-4c46-f317-34af7fef6c2e"
      },
      "execution_count": null,
      "outputs": [
        {
          "output_type": "execute_result",
          "data": {
            "text/plain": [
              "str"
            ]
          },
          "metadata": {},
          "execution_count": 9
        }
      ]
    },
    {
      "cell_type": "code",
      "source": [
        "texto"
      ],
      "metadata": {
        "colab": {
          "base_uri": "https://localhost:8080/",
          "height": 35
        },
        "id": "K6aditrZtLA-",
        "outputId": "ba72edb4-b4af-4f3b-a840-98e38bad4fae"
      },
      "execution_count": null,
      "outputs": [
        {
          "output_type": "execute_result",
          "data": {
            "text/plain": [
              "'Programando en python'"
            ],
            "application/vnd.google.colaboratory.intrinsic+json": {
              "type": "string"
            }
          },
          "metadata": {},
          "execution_count": 11
        }
      ]
    },
    {
      "cell_type": "code",
      "source": [
        "texto_largo #\\n indica rompimiento de lineas"
      ],
      "metadata": {
        "colab": {
          "base_uri": "https://localhost:8080/",
          "height": 35
        },
        "id": "KvaAuFEutXKP",
        "outputId": "38288ca8-e62a-4ad2-e498-46633eaca170"
      },
      "execution_count": null,
      "outputs": [
        {
          "output_type": "execute_result",
          "data": {
            "text/plain": [
              "'Este es un texto\\nlargo,\\nmuy, muy largo'"
            ],
            "application/vnd.google.colaboratory.intrinsic+json": {
              "type": "string"
            }
          },
          "metadata": {},
          "execution_count": 15
        }
      ]
    },
    {
      "cell_type": "code",
      "source": [
        "print(texto_largo)"
      ],
      "metadata": {
        "colab": {
          "base_uri": "https://localhost:8080/"
        },
        "id": "xLoJrbpPuHdq",
        "outputId": "9cd1cc56-2844-4271-8c25-69d83e33ff49"
      },
      "execution_count": null,
      "outputs": [
        {
          "output_type": "stream",
          "name": "stdout",
          "text": [
            "Este es un texto\n",
            "largo,\n",
            "muy, muy largo\n"
          ]
        }
      ]
    },
    {
      "cell_type": "markdown",
      "source": [],
      "metadata": {
        "id": "QPGV2lfHu55-"
      }
    },
    {
      "cell_type": "markdown",
      "source": [
        "## 3.1 Concatenación de palabras"
      ],
      "metadata": {
        "id": "DDt7BD8du9g7"
      }
    },
    {
      "cell_type": "code",
      "source": [
        "palabra1 = 'Hola'\n",
        "palabra2 = 'Mundo'"
      ],
      "metadata": {
        "id": "qnFIOtPYuc-1"
      },
      "execution_count": null,
      "outputs": []
    },
    {
      "cell_type": "code",
      "source": [
        "palabra1 + palabra2"
      ],
      "metadata": {
        "colab": {
          "base_uri": "https://localhost:8080/",
          "height": 35
        },
        "id": "CuU_hUxMvnpM",
        "outputId": "09f85c2c-9369-40c7-e0be-27771e1471a0"
      },
      "execution_count": null,
      "outputs": [
        {
          "output_type": "execute_result",
          "data": {
            "text/plain": [
              "'HolaMundo'"
            ],
            "application/vnd.google.colaboratory.intrinsic+json": {
              "type": "string"
            }
          },
          "metadata": {},
          "execution_count": 20
        }
      ]
    },
    {
      "cell_type": "code",
      "source": [
        "saludo = palabra1 + ' ' + palabra2"
      ],
      "metadata": {
        "id": "vBtAhJObux1s"
      },
      "execution_count": null,
      "outputs": []
    },
    {
      "cell_type": "markdown",
      "source": [
        "## 3.2 Métodos de cadenas"
      ],
      "metadata": {
        "id": "lPnUpkIyybjl"
      }
    },
    {
      "cell_type": "code",
      "source": [
        "saludo.upper() # Mayusculas"
      ],
      "metadata": {
        "colab": {
          "base_uri": "https://localhost:8080/",
          "height": 35
        },
        "id": "7-YSMXtdyEK6",
        "outputId": "4d95c274-d834-4467-a07b-da419daf5a93"
      },
      "execution_count": null,
      "outputs": [
        {
          "output_type": "execute_result",
          "data": {
            "text/plain": [
              "'HOLA MUNDO'"
            ],
            "application/vnd.google.colaboratory.intrinsic+json": {
              "type": "string"
            }
          },
          "metadata": {},
          "execution_count": 24
        }
      ]
    },
    {
      "cell_type": "code",
      "source": [
        "saludo # Variable sin modificar"
      ],
      "metadata": {
        "colab": {
          "base_uri": "https://localhost:8080/",
          "height": 35
        },
        "id": "Itg6_eYLy5n6",
        "outputId": "a511998a-03d5-4702-edee-655959920a07"
      },
      "execution_count": null,
      "outputs": [
        {
          "output_type": "execute_result",
          "data": {
            "text/plain": [
              "'Hola Mundo'"
            ],
            "application/vnd.google.colaboratory.intrinsic+json": {
              "type": "string"
            }
          },
          "metadata": {},
          "execution_count": 26
        }
      ]
    },
    {
      "cell_type": "code",
      "source": [
        "saludo.lower() # Minusculas"
      ],
      "metadata": {
        "colab": {
          "base_uri": "https://localhost:8080/",
          "height": 35
        },
        "id": "b7oKs2AczMS4",
        "outputId": "bc812c2b-f808-4c23-e1c2-f1be1e8e44ad"
      },
      "execution_count": null,
      "outputs": [
        {
          "output_type": "execute_result",
          "data": {
            "text/plain": [
              "'hola mundo'"
            ],
            "application/vnd.google.colaboratory.intrinsic+json": {
              "type": "string"
            }
          },
          "metadata": {},
          "execution_count": 28
        }
      ]
    },
    {
      "cell_type": "code",
      "source": [
        "saludo.capitalize() #Primera letra en mayuscula"
      ],
      "metadata": {
        "colab": {
          "base_uri": "https://localhost:8080/",
          "height": 35
        },
        "id": "XOorA1SmzWen",
        "outputId": "bda7b719-9df6-406e-b9e6-6cd8c58d820a"
      },
      "execution_count": null,
      "outputs": [
        {
          "output_type": "execute_result",
          "data": {
            "text/plain": [
              "'Hola mundo'"
            ],
            "application/vnd.google.colaboratory.intrinsic+json": {
              "type": "string"
            }
          },
          "metadata": {},
          "execution_count": 29
        }
      ]
    },
    {
      "cell_type": "code",
      "source": [
        "saludo.title() #Primera letra de cada palabra en mayuscula"
      ],
      "metadata": {
        "colab": {
          "base_uri": "https://localhost:8080/",
          "height": 35
        },
        "id": "4Oq7nYa4z_xa",
        "outputId": "dfe0ab9c-77e6-4680-bb9b-807bb806c0a8"
      },
      "execution_count": null,
      "outputs": [
        {
          "output_type": "execute_result",
          "data": {
            "text/plain": [
              "'Hola Mundo'"
            ],
            "application/vnd.google.colaboratory.intrinsic+json": {
              "type": "string"
            }
          },
          "metadata": {},
          "execution_count": 31
        }
      ]
    },
    {
      "cell_type": "code",
      "source": [
        "nombres = \"Isaí_Mike_Manu_Laura\""
      ],
      "metadata": {
        "id": "BLXt82A90vXh"
      },
      "execution_count": null,
      "outputs": []
    },
    {
      "cell_type": "code",
      "source": [
        "nombres.split('_') #Separar por comas en forma de lista"
      ],
      "metadata": {
        "colab": {
          "base_uri": "https://localhost:8080/"
        },
        "id": "zkkrnBoG06qA",
        "outputId": "1752d16c-2a64-403e-f208-3126d98318de"
      },
      "execution_count": null,
      "outputs": [
        {
          "output_type": "execute_result",
          "data": {
            "text/plain": [
              "['Isaí', 'Mike', 'Manu', 'Laura']"
            ]
          },
          "metadata": {},
          "execution_count": 26
        }
      ]
    },
    {
      "cell_type": "code",
      "source": [
        "nombres = \"Isaí. Mike. Manu. Laura\""
      ],
      "metadata": {
        "id": "QT3HoaPq3qwB"
      },
      "execution_count": null,
      "outputs": []
    },
    {
      "cell_type": "code",
      "source": [
        "nombres.split('.') #Separar por puntos en forma de lista"
      ],
      "metadata": {
        "colab": {
          "base_uri": "https://localhost:8080/"
        },
        "id": "2yeOLjUS3ufy",
        "outputId": "39eab75d-9f23-4d80-c3e7-277da7b0875a"
      },
      "execution_count": null,
      "outputs": [
        {
          "output_type": "execute_result",
          "data": {
            "text/plain": [
              "['Isaí', ' Mike', ' Manu', ' Laura']"
            ]
          },
          "metadata": {},
          "execution_count": 44
        }
      ]
    },
    {
      "cell_type": "markdown",
      "source": [
        "# 4. Booleanos"
      ],
      "metadata": {
        "id": "Jq5c7GhUPeMq"
      }
    },
    {
      "cell_type": "code",
      "source": [
        "T = True\n",
        "F = False"
      ],
      "metadata": {
        "id": "uPOCpYujPmQT"
      },
      "execution_count": null,
      "outputs": []
    },
    {
      "cell_type": "code",
      "source": [
        "type(T), type(F)"
      ],
      "metadata": {
        "colab": {
          "base_uri": "https://localhost:8080/"
        },
        "id": "7DC6uqIzPxeQ",
        "outputId": "2ab960f5-b325-4717-f12b-1daf19532c5b"
      },
      "execution_count": null,
      "outputs": [
        {
          "output_type": "execute_result",
          "data": {
            "text/plain": [
              "(bool, bool)"
            ]
          },
          "metadata": {},
          "execution_count": 4
        }
      ]
    },
    {
      "cell_type": "markdown",
      "source": [
        "## 4.1 Operadores lógicos"
      ],
      "metadata": {
        "id": "ZzuE_6SZRj3p"
      }
    },
    {
      "cell_type": "code",
      "source": [
        "True and True"
      ],
      "metadata": {
        "colab": {
          "base_uri": "https://localhost:8080/"
        },
        "id": "CakTtYOnRCpI",
        "outputId": "82f5831f-fd46-4158-c1b2-2bfcc449adc5"
      },
      "execution_count": null,
      "outputs": [
        {
          "output_type": "execute_result",
          "data": {
            "text/plain": [
              "True"
            ]
          },
          "metadata": {},
          "execution_count": 6
        }
      ]
    },
    {
      "cell_type": "code",
      "source": [
        "True and False"
      ],
      "metadata": {
        "colab": {
          "base_uri": "https://localhost:8080/"
        },
        "id": "ELRECzMNRIsj",
        "outputId": "3acd252d-1913-40a6-8730-4bbebbc0d788"
      },
      "execution_count": null,
      "outputs": [
        {
          "output_type": "execute_result",
          "data": {
            "text/plain": [
              "False"
            ]
          },
          "metadata": {},
          "execution_count": 7
        }
      ]
    },
    {
      "cell_type": "code",
      "source": [
        "False and True"
      ],
      "metadata": {
        "colab": {
          "base_uri": "https://localhost:8080/"
        },
        "id": "38huhFWFRLuS",
        "outputId": "e3ba88ae-85c2-42f2-a31f-bff308666c5e"
      },
      "execution_count": null,
      "outputs": [
        {
          "output_type": "execute_result",
          "data": {
            "text/plain": [
              "False"
            ]
          },
          "metadata": {},
          "execution_count": 9
        }
      ]
    },
    {
      "cell_type": "code",
      "source": [
        "False and False"
      ],
      "metadata": {
        "colab": {
          "base_uri": "https://localhost:8080/"
        },
        "id": "sAgw1p_XRSQy",
        "outputId": "35358ee0-a627-4dd8-8358-23bd83d1a0e4"
      },
      "execution_count": null,
      "outputs": [
        {
          "output_type": "execute_result",
          "data": {
            "text/plain": [
              "False"
            ]
          },
          "metadata": {},
          "execution_count": 11
        }
      ]
    },
    {
      "cell_type": "code",
      "source": [
        "not True"
      ],
      "metadata": {
        "colab": {
          "base_uri": "https://localhost:8080/"
        },
        "id": "NON-lmLZR0VS",
        "outputId": "b019dda0-a469-4dee-857f-a577e93e4146"
      },
      "execution_count": null,
      "outputs": [
        {
          "output_type": "execute_result",
          "data": {
            "text/plain": [
              "False"
            ]
          },
          "metadata": {},
          "execution_count": 13
        }
      ]
    },
    {
      "cell_type": "code",
      "source": [
        "a = 10\n",
        "b = 0"
      ],
      "metadata": {
        "id": "_oXqoJuvR-Rt"
      },
      "execution_count": null,
      "outputs": []
    },
    {
      "cell_type": "code",
      "source": [
        "a > b"
      ],
      "metadata": {
        "colab": {
          "base_uri": "https://localhost:8080/"
        },
        "id": "SuSCE44sSEUG",
        "outputId": "2c391d1a-683c-4384-ace9-982f602fe3eb"
      },
      "execution_count": null,
      "outputs": [
        {
          "output_type": "execute_result",
          "data": {
            "text/plain": [
              "True"
            ]
          },
          "metadata": {},
          "execution_count": 16
        }
      ]
    },
    {
      "cell_type": "code",
      "source": [
        "a == b"
      ],
      "metadata": {
        "colab": {
          "base_uri": "https://localhost:8080/"
        },
        "id": "zbMSkPquSLrq",
        "outputId": "b1d9d7e6-c32c-47dd-99dd-3822a914acaf"
      },
      "execution_count": null,
      "outputs": [
        {
          "output_type": "execute_result",
          "data": {
            "text/plain": [
              "False"
            ]
          },
          "metadata": {},
          "execution_count": 18
        }
      ]
    },
    {
      "cell_type": "code",
      "source": [
        "a != b"
      ],
      "metadata": {
        "colab": {
          "base_uri": "https://localhost:8080/"
        },
        "id": "5ofi15uySg50",
        "outputId": "93caa388-e4e3-4b9c-f253-2e62cc29da47"
      },
      "execution_count": null,
      "outputs": [
        {
          "output_type": "execute_result",
          "data": {
            "text/plain": [
              "True"
            ]
          },
          "metadata": {},
          "execution_count": 19
        }
      ]
    },
    {
      "cell_type": "markdown",
      "source": [
        "# 5. Diccionarios"
      ],
      "metadata": {
        "id": "C33haB-5UASl"
      }
    },
    {
      "cell_type": "code",
      "source": [
        "diccionario = {\"llave\":12,'a': 1, 'b': 2, 'c': 3, \"Frutas\": [\"Manzana\",\n",
        "                                                             \"Pera\", \"Naranja\"]}"
      ],
      "metadata": {
        "id": "bxLna46QUE2X"
      },
      "execution_count": null,
      "outputs": []
    },
    {
      "cell_type": "code",
      "source": [
        "type(diccionario)"
      ],
      "metadata": {
        "colab": {
          "base_uri": "https://localhost:8080/"
        },
        "id": "nXrW1jXeV-CN",
        "outputId": "9d9e907a-dd5f-4ba3-a6e3-c24e549832a3"
      },
      "execution_count": null,
      "outputs": [
        {
          "output_type": "execute_result",
          "data": {
            "text/plain": [
              "dict"
            ]
          },
          "metadata": {},
          "execution_count": 22
        }
      ]
    },
    {
      "cell_type": "code",
      "source": [
        "diccionario[\"Frutas\"]"
      ],
      "metadata": {
        "colab": {
          "base_uri": "https://localhost:8080/"
        },
        "id": "9WMhVDZ_WsKN",
        "outputId": "8bcb36d7-b5f2-42ef-c214-acdd71d88b8b"
      },
      "execution_count": null,
      "outputs": [
        {
          "output_type": "execute_result",
          "data": {
            "text/plain": [
              "['Manzana', 'Pera', 'Naranja']"
            ]
          },
          "metadata": {},
          "execution_count": 27
        }
      ]
    },
    {
      "cell_type": "code",
      "source": [
        "# Modificar diccionarios\n",
        "diccionario[\"Frutas\"][1] = \"Mango\""
      ],
      "metadata": {
        "id": "O6BFaZToW0zo"
      },
      "execution_count": null,
      "outputs": []
    },
    {
      "cell_type": "code",
      "source": [
        "diccionario"
      ],
      "metadata": {
        "colab": {
          "base_uri": "https://localhost:8080/"
        },
        "id": "CIapmLtiip7j",
        "outputId": "10c70837-710a-49bd-8477-789d53123055"
      },
      "execution_count": null,
      "outputs": [
        {
          "output_type": "execute_result",
          "data": {
            "text/plain": [
              "{'llave': 12,\n",
              " 'a': 1,\n",
              " 'b': 2,\n",
              " 'c': 3,\n",
              " 'Frutas': ['Manzana', 'Mango', 'Naranja']}"
            ]
          },
          "metadata": {},
          "execution_count": 31
        }
      ]
    },
    {
      "cell_type": "code",
      "source": [
        "# Eliminar un elemento del diccionario\n",
        "diccionario.pop(\"llave\")"
      ],
      "metadata": {
        "colab": {
          "base_uri": "https://localhost:8080/"
        },
        "id": "dTkDqCYmiwBW",
        "outputId": "5109c8bb-d273-44fd-f112-bb00fc89b388"
      },
      "execution_count": null,
      "outputs": [
        {
          "output_type": "execute_result",
          "data": {
            "text/plain": [
              "12"
            ]
          },
          "metadata": {},
          "execution_count": 39
        }
      ]
    },
    {
      "cell_type": "code",
      "source": [
        "diccionario"
      ],
      "metadata": {
        "colab": {
          "base_uri": "https://localhost:8080/"
        },
        "id": "54vqoC_1jyXo",
        "outputId": "d56c3174-5dd6-4296-98ba-5b4970b62436"
      },
      "execution_count": null,
      "outputs": [
        {
          "output_type": "execute_result",
          "data": {
            "text/plain": [
              "{'a': 1, 'b': 2, 'c': 3, 'Frutas': ['Manzana', 'Pera', 'Naranja']}"
            ]
          },
          "metadata": {},
          "execution_count": 41
        }
      ]
    },
    {
      "cell_type": "code",
      "source": [
        "diccionario = {\"llave\":12,'a': 1, 'b': 2, 'c': 3, \"Frutas\": [\"Manzana\",\n",
        "                                                             \"Pera\", \"Naranja\"]}"
      ],
      "metadata": {
        "id": "3aLWq3enkbgr"
      },
      "execution_count": null,
      "outputs": []
    },
    {
      "cell_type": "code",
      "source": [
        "# Conocer variables (Clave o llaves) que contiene el diccionario\n",
        "diccionario.keys()"
      ],
      "metadata": {
        "colab": {
          "base_uri": "https://localhost:8080/"
        },
        "id": "xy8_7F1jkcmX",
        "outputId": "c7558c0d-2e60-40e5-ab69-6bade67bffe9"
      },
      "execution_count": null,
      "outputs": [
        {
          "output_type": "execute_result",
          "data": {
            "text/plain": [
              "dict_keys(['llave', 'a', 'b', 'c', 'Frutas'])"
            ]
          },
          "metadata": {},
          "execution_count": 45
        }
      ]
    },
    {
      "cell_type": "code",
      "source": [
        "# Obtener los valores (Valor) del diccionario\n",
        "diccionario.values()"
      ],
      "metadata": {
        "colab": {
          "base_uri": "https://localhost:8080/"
        },
        "id": "rlUsBH7Sk4SY",
        "outputId": "3bd11f01-0515-4031-a12e-ccc5cffdbd77"
      },
      "execution_count": null,
      "outputs": [
        {
          "output_type": "execute_result",
          "data": {
            "text/plain": [
              "dict_values([12, 1, 2, 3, ['Manzana', 'Pera', 'Naranja']])"
            ]
          },
          "metadata": {},
          "execution_count": 47
        }
      ]
    },
    {
      "cell_type": "code",
      "source": [
        "dir(diccionario)"
      ],
      "metadata": {
        "colab": {
          "base_uri": "https://localhost:8080/"
        },
        "id": "ekHzbHE8mz5y",
        "outputId": "2d09b56d-eb24-490a-c34a-e87f0852076a"
      },
      "execution_count": null,
      "outputs": [
        {
          "output_type": "execute_result",
          "data": {
            "text/plain": [
              "['__class__',\n",
              " '__class_getitem__',\n",
              " '__contains__',\n",
              " '__delattr__',\n",
              " '__delitem__',\n",
              " '__dir__',\n",
              " '__doc__',\n",
              " '__eq__',\n",
              " '__format__',\n",
              " '__ge__',\n",
              " '__getattribute__',\n",
              " '__getitem__',\n",
              " '__gt__',\n",
              " '__hash__',\n",
              " '__init__',\n",
              " '__init_subclass__',\n",
              " '__ior__',\n",
              " '__iter__',\n",
              " '__le__',\n",
              " '__len__',\n",
              " '__lt__',\n",
              " '__ne__',\n",
              " '__new__',\n",
              " '__or__',\n",
              " '__reduce__',\n",
              " '__reduce_ex__',\n",
              " '__repr__',\n",
              " '__reversed__',\n",
              " '__ror__',\n",
              " '__setattr__',\n",
              " '__setitem__',\n",
              " '__sizeof__',\n",
              " '__str__',\n",
              " '__subclasshook__',\n",
              " 'clear',\n",
              " 'copy',\n",
              " 'fromkeys',\n",
              " 'get',\n",
              " 'items',\n",
              " 'keys',\n",
              " 'pop',\n",
              " 'popitem',\n",
              " 'setdefault',\n",
              " 'update',\n",
              " 'values']"
            ]
          },
          "metadata": {},
          "execution_count": 48
        }
      ]
    },
    {
      "cell_type": "markdown",
      "source": [
        "# 6. Tuplas"
      ],
      "metadata": {
        "id": "m77XGJO8366h"
      }
    },
    {
      "cell_type": "code",
      "source": [
        "verduras = (\"Lechuga\", \"Tomate\", \"Cebolla\", \"Zanahoria\")"
      ],
      "metadata": {
        "id": "yz0IVZjc38m2"
      },
      "execution_count": null,
      "outputs": []
    },
    {
      "cell_type": "code",
      "source": [
        "type(verduras)"
      ],
      "metadata": {
        "colab": {
          "base_uri": "https://localhost:8080/"
        },
        "id": "_uXWzdK14Bks",
        "outputId": "80f61ec1-ced1-4803-8d25-65cbdbf201f1"
      },
      "execution_count": null,
      "outputs": [
        {
          "output_type": "execute_result",
          "data": {
            "text/plain": [
              "tuple"
            ]
          },
          "metadata": {},
          "execution_count": 3
        }
      ]
    },
    {
      "cell_type": "code",
      "source": [
        "verdura.append(\"Apio\") # genera un error al ser una tupla inmutabla"
      ],
      "metadata": {
        "id": "MuAPussw4meA"
      },
      "execution_count": null,
      "outputs": []
    },
    {
      "cell_type": "code",
      "source": [
        "verduras[1] = \"Apio\" # genera un error al ser una tupla inmutabla"
      ],
      "metadata": {
        "id": "Gh2JhDMO46l9"
      },
      "execution_count": null,
      "outputs": []
    },
    {
      "cell_type": "code",
      "source": [
        "verduras.remove(\"Lechuga\") # genera un error al ser una tupla inmutabla"
      ],
      "metadata": {
        "id": "E353QlB65OSE"
      },
      "execution_count": null,
      "outputs": []
    },
    {
      "cell_type": "code",
      "source": [
        "del verduras[0] # genera un error al ser una tupla inmutabla"
      ],
      "metadata": {
        "id": "F9bhsKVy5cUr"
      },
      "execution_count": null,
      "outputs": []
    },
    {
      "cell_type": "code",
      "source": [
        "verduras[1]"
      ],
      "metadata": {
        "colab": {
          "base_uri": "https://localhost:8080/",
          "height": 35
        },
        "id": "m5o_o_4e5w3a",
        "outputId": "e76524b0-e3fe-4a9f-fb24-6aca1f62deaf"
      },
      "execution_count": null,
      "outputs": [
        {
          "output_type": "execute_result",
          "data": {
            "text/plain": [
              "'Tomate'"
            ],
            "application/vnd.google.colaboratory.intrinsic+json": {
              "type": "string"
            }
          },
          "metadata": {},
          "execution_count": 10
        }
      ]
    },
    {
      "cell_type": "code",
      "source": [
        "# Otra forma de crear una tupla\n",
        "mis_frutas = tuple([\"Manzana\", \"Pera\", \"Naranja\"])\n",
        "type(mis_frutas)"
      ],
      "metadata": {
        "colab": {
          "base_uri": "https://localhost:8080/"
        },
        "id": "zGpyGOFQ57jh",
        "outputId": "8613d4f4-8ee6-4de6-e1be-f17f978ecdb4"
      },
      "execution_count": null,
      "outputs": [
        {
          "output_type": "execute_result",
          "data": {
            "text/plain": [
              "tuple"
            ]
          },
          "metadata": {},
          "execution_count": 12
        }
      ]
    },
    {
      "cell_type": "code",
      "source": [
        "mis_frutas"
      ],
      "metadata": {
        "id": "NXbQyKCw6d0-",
        "outputId": "654d47f3-f064-4b28-f763-7dc0b339c5e8",
        "colab": {
          "base_uri": "https://localhost:8080/"
        }
      },
      "execution_count": null,
      "outputs": [
        {
          "output_type": "execute_result",
          "data": {
            "text/plain": [
              "('Manzana', 'Pera', 'Naranja')"
            ]
          },
          "metadata": {},
          "execution_count": 13
        }
      ]
    },
    {
      "cell_type": "markdown",
      "source": [
        "# 7. Listas"
      ],
      "metadata": {
        "id": "snDakdCSuJVX"
      }
    },
    {
      "cell_type": "code",
      "source": [
        "lista = [1, 2.5, 'IER UNAM', [5, 6], {'nombre': 'Isaí'}]"
      ],
      "metadata": {
        "id": "8BNG54OauK7S"
      },
      "execution_count": null,
      "outputs": []
    },
    {
      "cell_type": "code",
      "source": [
        "type(lista)"
      ],
      "metadata": {
        "colab": {
          "base_uri": "https://localhost:8080/"
        },
        "id": "cNHo2SQ9wMR3",
        "outputId": "6cd428c2-9e08-430e-a027-4044ea78a700"
      },
      "execution_count": null,
      "outputs": [
        {
          "output_type": "execute_result",
          "data": {
            "text/plain": [
              "list"
            ]
          },
          "metadata": {},
          "execution_count": 3
        }
      ]
    },
    {
      "cell_type": "code",
      "source": [
        "#Crear lista a partir de una tupla\n",
        "list((1, 2, 'lista'))"
      ],
      "metadata": {
        "colab": {
          "base_uri": "https://localhost:8080/"
        },
        "id": "Lyj-DabUw-Pr",
        "outputId": "392151b3-1615-4597-95b6-411eb4881470"
      },
      "execution_count": null,
      "outputs": [
        {
          "output_type": "execute_result",
          "data": {
            "text/plain": [
              "[1, 2, 'lista']"
            ]
          },
          "metadata": {},
          "execution_count": 11
        }
      ]
    },
    {
      "cell_type": "code",
      "source": [
        "numeros = [1, 2, 3, 4, 5]"
      ],
      "metadata": {
        "id": "lMsuvtvExnZY"
      },
      "execution_count": null,
      "outputs": []
    },
    {
      "cell_type": "code",
      "source": [
        "elementos = [3, 'a', 8, 7.3, 'cadena'] #Varios tipos de datos en las listas"
      ],
      "metadata": {
        "id": "s186sR-fxzYs"
      },
      "execution_count": null,
      "outputs": []
    },
    {
      "cell_type": "code",
      "source": [
        "letras = ['a', 'b', 'c', 'd']"
      ],
      "metadata": {
        "id": "FPIPWMc1yhsO"
      },
      "execution_count": null,
      "outputs": []
    },
    {
      "cell_type": "code",
      "source": [
        "# Acceso a elementos de lista a través de su índice\n",
        "letras[0]"
      ],
      "metadata": {
        "id": "rA4B9rPJyIAA"
      },
      "execution_count": null,
      "outputs": []
    },
    {
      "cell_type": "markdown",
      "source": [
        "## 7.1 Algunos métodos en listas"
      ],
      "metadata": {
        "id": "7_vuUJ7H4BGA"
      }
    },
    {
      "cell_type": "code",
      "source": [
        "# método append\n",
        "vocales = ['a']\n",
        "vocales.append('e')\n",
        "vocales.append('i')\n",
        "vocales.append('o')\n",
        "vocales.append('u')"
      ],
      "metadata": {
        "id": "LyLY3iwt1C1w"
      },
      "execution_count": null,
      "outputs": []
    },
    {
      "cell_type": "code",
      "source": [
        "vocales"
      ],
      "metadata": {
        "colab": {
          "base_uri": "https://localhost:8080/"
        },
        "id": "PQu9lIta1VsW",
        "outputId": "097ac974-42b9-4a1c-cd55-7ddeb462ba36"
      },
      "execution_count": null,
      "outputs": [
        {
          "output_type": "execute_result",
          "data": {
            "text/plain": [
              "['a', 'e', 'i', 'o', 'u']"
            ]
          },
          "metadata": {},
          "execution_count": 5
        }
      ]
    },
    {
      "cell_type": "code",
      "source": [
        "# Añadir múltiples elementos de otras listas a la lista original\n",
        "vocales.extend(['A', 'E', 'I', 'O', 'U'])"
      ],
      "metadata": {
        "id": "marJpets1m09"
      },
      "execution_count": null,
      "outputs": []
    },
    {
      "cell_type": "code",
      "source": [
        "vocales"
      ],
      "metadata": {
        "colab": {
          "base_uri": "https://localhost:8080/"
        },
        "id": "Xa4oO0bO2RfE",
        "outputId": "3fa3e922-e286-42f0-d084-304b108224aa"
      },
      "execution_count": null,
      "outputs": [
        {
          "output_type": "execute_result",
          "data": {
            "text/plain": [
              "['a', 'e', 'i', 'o', 'u', 'A', 'E', 'I', 'O', 'U']"
            ]
          },
          "metadata": {},
          "execution_count": 7
        }
      ]
    },
    {
      "cell_type": "code",
      "source": [
        "# Juntar elementos de listas\n",
        "\n",
        "lista_1 = [1, 2, 3]\n",
        "lista_2 = [4, 5, 6]\n",
        "lista_3 = [7, 8, 9]\n",
        "\n",
        "Nueva_lista = lista_1 + lista_2 + lista_3\n",
        "Nueva_lista"
      ],
      "metadata": {
        "colab": {
          "base_uri": "https://localhost:8080/"
        },
        "id": "QDy-oJfW2rlT",
        "outputId": "8b2d189c-af94-4224-8b3c-e0ca5e375dda"
      },
      "execution_count": null,
      "outputs": [
        {
          "output_type": "execute_result",
          "data": {
            "text/plain": [
              "[1, 2, 3, 4, 5, 6, 7, 8, 9]"
            ]
          },
          "metadata": {},
          "execution_count": 15
        }
      ]
    },
    {
      "cell_type": "code",
      "source": [
        "# Método insert (Insertar elementos en una posición definida de la lista)\n",
        "\n",
        "vocales = ['a', 'e', 'i', 'o', 'u'] # Inserta en la posición 0 y recorre al elemento que estaba antes a la sig. posición\n",
        "vocales.insert(0, 'A')\n",
        "vocales"
      ],
      "metadata": {
        "colab": {
          "base_uri": "https://localhost:8080/"
        },
        "id": "OtIiniDM3bAq",
        "outputId": "b51cd8f7-3730-42a6-bffe-91866da9b2a4"
      },
      "execution_count": null,
      "outputs": [
        {
          "output_type": "execute_result",
          "data": {
            "text/plain": [
              "['A', 'a', 'e', 'i', 'o', 'u']"
            ]
          },
          "metadata": {},
          "execution_count": 17
        }
      ]
    },
    {
      "cell_type": "code",
      "source": [
        "# Las cadenas de caracteres también funcionan como listas\n",
        "\n",
        "mensaje = \"Hola Mundo\"\n",
        "mensaje[0]"
      ],
      "metadata": {
        "colab": {
          "base_uri": "https://localhost:8080/",
          "height": 35
        },
        "id": "KP8WN8044los",
        "outputId": "cfc4b5dc-a3b7-4c31-a0fc-f9a7592cd136"
      },
      "execution_count": null,
      "outputs": [
        {
          "output_type": "execute_result",
          "data": {
            "text/plain": [
              "'H'"
            ],
            "application/vnd.google.colaboratory.intrinsic+json": {
              "type": "string"
            }
          },
          "metadata": {},
          "execution_count": 1
        }
      ]
    },
    {
      "cell_type": "code",
      "source": [
        "# Modificación de elementos en lista\n",
        "vocales = ['o','o','o','o']\n",
        "vocales[0] = 'a'\n",
        "vocales"
      ],
      "metadata": {
        "colab": {
          "base_uri": "https://localhost:8080/"
        },
        "id": "GpzVDUwSdvO7",
        "outputId": "412407b8-511f-41ae-a657-af38968bfbb1"
      },
      "execution_count": null,
      "outputs": [
        {
          "output_type": "execute_result",
          "data": {
            "text/plain": [
              "['a', 'o', 'o', 'o']"
            ]
          },
          "metadata": {},
          "execution_count": 3
        }
      ]
    },
    {
      "cell_type": "code",
      "source": [
        "# Eliminar elementos de lista\n",
        "letras = ['a', 'b', 'c', 'd', 'e', 'f']\n",
        "letras.pop(0)\n",
        "letras"
      ],
      "metadata": {
        "colab": {
          "base_uri": "https://localhost:8080/"
        },
        "id": "fP2eOlCWeJkI",
        "outputId": "f702782f-2fce-4352-95c4-1ccb5cb4ee41"
      },
      "execution_count": null,
      "outputs": [
        {
          "output_type": "execute_result",
          "data": {
            "text/plain": [
              "['b', 'c', 'd', 'e', 'f']"
            ]
          },
          "metadata": {},
          "execution_count": 5
        }
      ]
    },
    {
      "cell_type": "code",
      "source": [
        "# Borrar por completo lista\n",
        "letras.clear()\n",
        "letras"
      ],
      "metadata": {
        "colab": {
          "base_uri": "https://localhost:8080/"
        },
        "id": "NalBPyeoekqk",
        "outputId": "2c869b0e-4b2d-4520-81e6-1dc10913735f"
      },
      "execution_count": null,
      "outputs": [
        {
          "output_type": "execute_result",
          "data": {
            "text/plain": [
              "[]"
            ]
          },
          "metadata": {},
          "execution_count": 7
        }
      ]
    },
    {
      "cell_type": "code",
      "source": [
        "# Determinar si un elemento se encuentra en una lista\n",
        "vocales = ['a', 'e', 'i', 'o', 'u']\n",
        "'a' in vocales # 1 forma"
      ],
      "metadata": {
        "colab": {
          "base_uri": "https://localhost:8080/"
        },
        "id": "r1e9RT3Le573",
        "outputId": "5e1e7dec-85ab-40a5-918b-d65a8c26955b"
      },
      "execution_count": null,
      "outputs": [
        {
          "output_type": "execute_result",
          "data": {
            "text/plain": [
              "True"
            ]
          },
          "metadata": {},
          "execution_count": 10
        }
      ]
    },
    {
      "cell_type": "code",
      "source": [
        "# Determinar si un elemento se encuentra en una lista\n",
        "if 'a' in vocales: # 2 forma\n",
        "    print('Si está')"
      ],
      "metadata": {
        "colab": {
          "base_uri": "https://localhost:8080/"
        },
        "id": "dDj2qtxUfdsn",
        "outputId": "eec7bf69-9507-41a6-b4e6-f2fbc0be9cf2"
      },
      "execution_count": null,
      "outputs": [
        {
          "output_type": "stream",
          "name": "stdout",
          "text": [
            "Si está\n"
          ]
        }
      ]
    },
    {
      "cell_type": "code",
      "source": [
        "# Ordemar una lista\n",
        "palabras = ['pera', 'manzana', 'naranja', 'uva']\n",
        "palabras.sort() #método .sort() ordena la lista en su lugar y no devuelve una nueva lista\n",
        "palabras"
      ],
      "metadata": {
        "colab": {
          "base_uri": "https://localhost:8080/"
        },
        "id": "JKcCpZ5rfrHd",
        "outputId": "b499b8af-de42-4c07-b42f-3590e43ebed1"
      },
      "execution_count": null,
      "outputs": [
        {
          "output_type": "execute_result",
          "data": {
            "text/plain": [
              "['manzana', 'naranja', 'pera', 'uva']"
            ]
          },
          "metadata": {},
          "execution_count": 14
        }
      ]
    },
    {
      "cell_type": "code",
      "source": [
        "# Ordenar una lista con elementos de diferente tipo\n",
        "lista = [1, 2, 3, 'a', 'b', 'c']\n",
        "lista.sort() # Proporciona un error, no se puede ordenar una lista con elementos de diferente tipo"
      ],
      "metadata": {
        "id": "jf0do2Hfgdnt"
      },
      "execution_count": null,
      "outputs": []
    },
    {
      "cell_type": "code",
      "source": [
        "# Método sorted (ordena de forma ascendente)\n",
        "numeros = [3, 1, 4, 1, 5, 9, 2]\n",
        "numeros_ordenados = sorted(numeros) #sorted(): Crea una copia ordenada y devuelve una nueva lista, dejando la lista original sin cambios\n",
        "numeros_ordenados"
      ],
      "metadata": {
        "colab": {
          "base_uri": "https://localhost:8080/"
        },
        "id": "rfbk6LKTnG5p",
        "outputId": "39882052-70cd-4a3f-f94d-1b72fcb89150"
      },
      "execution_count": null,
      "outputs": [
        {
          "output_type": "execute_result",
          "data": {
            "text/plain": [
              "[1, 1, 2, 3, 4, 5, 9]"
            ]
          },
          "metadata": {},
          "execution_count": 17
        }
      ]
    },
    {
      "cell_type": "code",
      "source": [
        "# Método sorted (ordenar de forma descendente)\n",
        "numeros = [3, 1, 4, 1, 5, 9, 2]\n",
        "numeros_ordenados = sorted(numeros, reverse=True)\n",
        "numeros_ordenados"
      ],
      "metadata": {
        "colab": {
          "base_uri": "https://localhost:8080/"
        },
        "id": "hVT0WKFans-U",
        "outputId": "b5d27c61-8627-4536-aa71-5b4ed0ff1502"
      },
      "execution_count": null,
      "outputs": [
        {
          "output_type": "execute_result",
          "data": {
            "text/plain": [
              "[9, 5, 4, 3, 2, 1, 1]"
            ]
          },
          "metadata": {},
          "execution_count": 20
        }
      ]
    },
    {
      "cell_type": "code",
      "source": [
        "# Contar cuantas veces se repite un elemento en la lista\n",
        "vocales = ['a', 'e', 'i', 'o', 'u','a']\n",
        "vocales.count('a')"
      ],
      "metadata": {
        "colab": {
          "base_uri": "https://localhost:8080/"
        },
        "id": "0mHu7ipmpKC1",
        "outputId": "114d637f-d403-4a5a-8ee1-075c8d7b8368"
      },
      "execution_count": null,
      "outputs": [
        {
          "output_type": "execute_result",
          "data": {
            "text/plain": [
              "2"
            ]
          },
          "metadata": {},
          "execution_count": 22
        }
      ]
    }
  ]
}
